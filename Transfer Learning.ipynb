{
 "cells": [
  {
   "cell_type": "markdown",
   "metadata": {
    "colab_type": "text",
    "id": "_0zs3TflcAEr"
   },
   "source": [
    "<pre>\n",
    "1. Download all the data in this folder https://drive.google.com/open?id=1Z4TyI7FcFVEx8qdl4jO9qxvxaqLSqoEu. it contains two file both images and labels. The label file list the images and their categories in the following format:\n",
    "            <b>path/to/the/image.tif,category</b>\n",
    "            \n",
    "    where the categories are numbered 0 to 15, in the following order:\n",
    "\n",
    "    <b>0 letter\n",
    "    1 form\n",
    "    2 email\n",
    "    3 handwritten\n",
    "    4 advertisement\n",
    "    5 scientific report\n",
    "    6 scientific publication\n",
    "    7 specification\n",
    "    8 file folder\n",
    "    9 news article\n",
    "    10 budget\n",
    "    11 invoice\n",
    "    12 presentation\n",
    "    13 questionnaire\n",
    "    14 resume\n",
    "    15 memo</b>\n",
    "    \n",
    "2. On this image data, you have to train 3 types of models as given below. You have to split the data into Train and Validation data.\n",
    "\n",
    "3. Try not to load all the images into memory, use the gernarators that we have given the reference notebooks to load the batch of images only during the train data.\n",
    "or you can use this method also\n",
    "<a href='https://medium.com/@vijayabhaskar96/tutorial-on-keras-imagedatagenerator-with-flow-from-dataframe-8bd5776e45c1'>https://medium.com/@vijayabhaskar96/tutorial-on-keras-imagedatagenerator-with-flow-from-dataframe-8bd5776e45c1</a>\n",
    "\n",
    "<a href='https://medium.com/@vijayabhaskar96/tutorial-on-keras-flow-from-dataframe-1fd4493d237c'>https://medium.com/@vijayabhaskar96/tutorial-on-keras-flow-from-dataframe-1fd4493d237c</a>\n",
    "\n",
    "\n",
    "4. You are free to choose Learning rate, optimizer, loss function, image augmentation, any hyperparameters. but you have to use the same architechture what we are asking below. \n",
    "\n",
    "5. Use tensorboard for every model and analyse your gradients. (you need to upload the screenshots for each model for evaluation)\n",
    "\n",
    "Note: fit_genarator() method will have problems with the tensorboard histograms, try to debug it, if you could not do use histgrams=0 i.e don't include histograms, check the documentation of tensorboard for more information. \n",
    "\n",
    "6. You can check about Transfer Learning in this link - <a href='https://blog.keras.io/building-powerful-image-classification-models-using-very-little-data.html'>https://blog.keras.io/building-powerful-image-classification-models-using-very-little-data.html</a>\n",
    "</pre>"
   ]
  },
  {
   "cell_type": "markdown",
   "metadata": {
    "colab_type": "text",
    "id": "XZXpEZtJcAEu"
   },
   "source": [
    "### Model-1"
   ]
  },
  {
   "cell_type": "markdown",
   "metadata": {
    "colab_type": "text",
    "id": "EF12MYu1cAEy"
   },
   "source": [
    "<pre>\n",
    "1. Use <a href='https://www.tensorflow.org/api_docs/python/tf/keras/applications/VGG16'>VGG-16</a> pretrained network without Fully Connected layers and initilize all the weights with Imagenet trained weights. \n",
    "2. After VGG-16 network without FC layers, add a new Conv block ( 1 Conv layer and 1 Maxpooling ), 2 FC layers and a output layer to classify 16 classes. You are free to choose any hyperparameters/parameters of conv block, FC layers, output layer. \n",
    "3. Final architecture will be <b>INPUT --> VGG-16 without Top layers(FC) --> Conv Layer --> Maxpool Layer --> 2 FC layers --> Output Layer</b>\n",
    "4. Train only new Conv block, FC layers, output layer. Don't train the VGG-16 network. \n",
    "\n",
    "</pre>"
   ]
  },
  {
   "cell_type": "markdown",
   "metadata": {
    "colab_type": "text",
    "id": "De0UlsaOcAE1"
   },
   "source": [
    "### Model-2"
   ]
  },
  {
   "cell_type": "markdown",
   "metadata": {
    "colab_type": "text",
    "id": "CNXN3EXFcAE5"
   },
   "source": [
    "<pre>\n",
    "1. Use <a href='https://www.tensorflow.org/api_docs/python/tf/keras/applications/VGG16'>VGG-16</a> pretrained network without Fully Connected layers and initilize all the weights with Imagenet trained weights.\n",
    "2. After VGG-16 network without FC layers, don't use FC layers, use conv layers only as Fully connected layer. any FC layer can be converted to a CONV layer. This conversion will reduce the No of Trainable parameters in FC layers. For example, an FC layer with K=4096 that is looking at some input volume of size 7×7×512 can be equivalently expressed as a CONV layer with F=7,P=0,S=1,K=4096. In other words, we are setting the filter size to be exactly the size of the input volume, and hence the output will simply be 1×1×4096 since only a single depth column “fits” across the input volume, giving identical result as the initial FC layer. You can refer <a href='http://cs231n.github.io/convolutional-networks/#convert'>this</a> link to better understanding of using Conv layer in place of fully connected layers.\n",
    "3. Final architecture will be VGG-16 without FC layers(without top), 2 Conv layers identical to FC layers, 1 output layer for 16 class classification. <b>INPUT --> VGG-16 without Top layers(FC) --> 2 Conv Layers identical to FC --> Output Layer</b>\n",
    "3. Train only last 2 Conv layers identical to FC layers, 1 output layer. Don't train the VGG-16 network. \n",
    "</pre>"
   ]
  },
  {
   "cell_type": "markdown",
   "metadata": {
    "colab_type": "text",
    "id": "amKbfojfcAE-"
   },
   "source": [
    "### Model-3"
   ]
  },
  {
   "cell_type": "markdown",
   "metadata": {
    "colab_type": "text",
    "id": "N9AULF-PcAFC"
   },
   "source": [
    "<pre>\n",
    "1. Use same network as Model-2 '<b>INPUT --> VGG-16 without Top layers(FC) --> 2 Conv Layers identical to FC --> Output Layer</b>' and train only Last 6 Layers of VGG-16 network, 2 Conv layers identical to FC layers, 1 output layer.\n",
    "</pre>"
   ]
  },
  {
   "cell_type": "code",
   "execution_count": 1,
   "metadata": {},
   "outputs": [],
   "source": [
    "import tensorflow as tf\n",
    "#import openCV\n",
    "import cv2\n",
    "import os\n",
    "import numpy as np\n",
    "import pandas as pd"
   ]
  },
  {
   "cell_type": "code",
   "execution_count": 2,
   "metadata": {},
   "outputs": [
    {
     "data": {
      "text/plain": [
       "'2.2.0'"
      ]
     },
     "execution_count": 2,
     "metadata": {},
     "output_type": "execute_result"
    }
   ],
   "source": [
    "tf.__version__"
   ]
  },
  {
   "cell_type": "code",
   "execution_count": 3,
   "metadata": {},
   "outputs": [],
   "source": [
    "dir_path = os.path.join(os.getcwd(),'data_final')"
   ]
  },
  {
   "cell_type": "code",
   "execution_count": 4,
   "metadata": {},
   "outputs": [
    {
     "data": {
      "text/html": [
       "<div>\n",
       "<style scoped>\n",
       "    .dataframe tbody tr th:only-of-type {\n",
       "        vertical-align: middle;\n",
       "    }\n",
       "\n",
       "    .dataframe tbody tr th {\n",
       "        vertical-align: top;\n",
       "    }\n",
       "\n",
       "    .dataframe thead th {\n",
       "        text-align: right;\n",
       "    }\n",
       "</style>\n",
       "<table border=\"1\" class=\"dataframe\">\n",
       "  <thead>\n",
       "    <tr style=\"text-align: right;\">\n",
       "      <th></th>\n",
       "      <th>path</th>\n",
       "      <th>label</th>\n",
       "    </tr>\n",
       "  </thead>\n",
       "  <tbody>\n",
       "    <tr>\n",
       "      <th>0</th>\n",
       "      <td>imagesv/v/o/h/voh71d00/509132755+-2755.tif</td>\n",
       "      <td>3</td>\n",
       "    </tr>\n",
       "    <tr>\n",
       "      <th>1</th>\n",
       "      <td>imagesl/l/x/t/lxt19d00/502213303.tif</td>\n",
       "      <td>3</td>\n",
       "    </tr>\n",
       "    <tr>\n",
       "      <th>2</th>\n",
       "      <td>imagesx/x/e/d/xed05a00/2075325674.tif</td>\n",
       "      <td>2</td>\n",
       "    </tr>\n",
       "    <tr>\n",
       "      <th>3</th>\n",
       "      <td>imageso/o/j/b/ojb60d00/517511301+-1301.tif</td>\n",
       "      <td>3</td>\n",
       "    </tr>\n",
       "    <tr>\n",
       "      <th>4</th>\n",
       "      <td>imagesq/q/z/k/qzk17e00/2031320195.tif</td>\n",
       "      <td>7</td>\n",
       "    </tr>\n",
       "  </tbody>\n",
       "</table>\n",
       "</div>"
      ],
      "text/plain": [
       "                                         path  label\n",
       "0  imagesv/v/o/h/voh71d00/509132755+-2755.tif      3\n",
       "1        imagesl/l/x/t/lxt19d00/502213303.tif      3\n",
       "2       imagesx/x/e/d/xed05a00/2075325674.tif      2\n",
       "3  imageso/o/j/b/ojb60d00/517511301+-1301.tif      3\n",
       "4       imagesq/q/z/k/qzk17e00/2031320195.tif      7"
      ]
     },
     "execution_count": 4,
     "metadata": {},
     "output_type": "execute_result"
    }
   ],
   "source": [
    "read_data_csv = pd.read_csv(\"labels_final.csv\")\n",
    "read_data_csv.head()"
   ]
  },
  {
   "cell_type": "code",
   "execution_count": 5,
   "metadata": {},
   "outputs": [
    {
     "name": "stdout",
     "output_type": "stream",
     "text": [
      "Number of Images 48000\n"
     ]
    }
   ],
   "source": [
    "print(\"Number of Images {}\".format(read_data_csv.shape[0]))"
   ]
  },
  {
   "cell_type": "code",
   "execution_count": 6,
   "metadata": {},
   "outputs": [],
   "source": [
    "import matplotlib.pyplot as plt\n",
    "import seaborn as sns"
   ]
  },
  {
   "cell_type": "code",
   "execution_count": 7,
   "metadata": {},
   "outputs": [
    {
     "data": {
      "text/plain": [
       "<matplotlib.axes._subplots.AxesSubplot at 0x17bad0f7088>"
      ]
     },
     "execution_count": 7,
     "metadata": {},
     "output_type": "execute_result"
    },
    {
     "data": {
      "image/png": "[encoded data removed]",
      "text/plain": [
       "<Figure size 432x288 with 1 Axes>"
      ]
     },
     "metadata": {
      "needs_background": "light"
     },
     "output_type": "display_data"
    }
   ],
   "source": [
    "sns.countplot(read_data_csv['label'])"
   ]
  },
  {
   "cell_type": "code",
   "execution_count": 8,
   "metadata": {},
   "outputs": [],
   "source": [
    "dir_path = os.path.join(os.getcwd(),\"data_final\")"
   ]
  },
  {
   "cell_type": "code",
   "execution_count": 9,
   "metadata": {},
   "outputs": [
    {
     "data": {
      "text/plain": [
       "'C:\\\\Users\\\\shubh\\\\Desktop\\\\19_Trasfer Learning\\\\data_final'"
      ]
     },
     "execution_count": 9,
     "metadata": {},
     "output_type": "execute_result"
    }
   ],
   "source": [
    "dir_path"
   ]
  },
  {
   "cell_type": "code",
   "execution_count": 10,
   "metadata": {},
   "outputs": [],
   "source": [
    "from tensorflow.keras.preprocessing.image import ImageDataGenerator\n",
    "from tensorflow.keras.layers import Dense, Activation, Flatten, Dropout, BatchNormalization\n",
    "from tensorflow.keras.layers import Dense,Input,Conv2D,MaxPool2D,Activation,Dropout,Flatten\n",
    "from tensorflow.keras import regularizers, optimizers\n",
    "from tensorflow.keras.models import Model\n",
    "import pandas as pd\n",
    "import numpy as np"
   ]
  },
  {
   "cell_type": "code",
   "execution_count": 11,
   "metadata": {},
   "outputs": [],
   "source": [
    "img_df=pd.read_csv('labels_final.csv',dtype=str)"
   ]
  },
  {
   "cell_type": "code",
   "execution_count": 12,
   "metadata": {},
   "outputs": [],
   "source": [
    "from sklearn.model_selection import train_test_split\n",
    "from sklearn.utils import shuffle\n",
    "img_df = shuffle(img_df)"
   ]
  },
  {
   "cell_type": "code",
   "execution_count": 13,
   "metadata": {},
   "outputs": [],
   "source": [
    "train_df = img_df.iloc[0:int(0.8*img_df.shape[0]),:]\n",
    "test_df =  img_df.iloc[int(0.8*img_df.shape[0]):,:]"
   ]
  },
  {
   "cell_type": "code",
   "execution_count": 14,
   "metadata": {},
   "outputs": [
    {
     "name": "stdout",
     "output_type": "stream",
     "text": [
      "Found 28800 validated image filenames belonging to 16 classes.\n",
      "Found 9600 validated image filenames belonging to 16 classes.\n",
      "Found 9600 validated image filenames.\n"
     ]
    }
   ],
   "source": [
    "datagen=ImageDataGenerator(rescale=1./255.,validation_split=0.25)\n",
    "train_generator=datagen.flow_from_dataframe(\n",
    "                                        dataframe=train_df,\n",
    "                                        directory='data_final/',\n",
    "                                        x_col=\"path\",\n",
    "                                        y_col=\"label\",\n",
    "                                        subset=\"training\",\n",
    "                                        batch_size=32,\n",
    "                                        seed=42,\n",
    "                                        shuffle=True,\n",
    "                                        class_mode=\"categorical\",\n",
    "                                        target_size=(224,224))\n",
    "\n",
    "valid_generator=datagen.flow_from_dataframe(\n",
    "                                        dataframe=train_df,\n",
    "                                        directory='data_final/',\n",
    "                                        x_col=\"path\",\n",
    "                                        y_col=\"label\",\n",
    "                                        subset=\"validation\",\n",
    "                                        batch_size=32,\n",
    "                                        seed=42,\n",
    "                                        shuffle=True,\n",
    "                                        class_mode=\"categorical\",\n",
    "                                        target_size=(224,224))\n",
    "\n",
    "test_datagen=ImageDataGenerator(rescale=1./255.)\n",
    "test_generator=test_datagen.flow_from_dataframe(\n",
    "                                        dataframe=test_df,\n",
    "                                        directory='data_final/',\n",
    "                                        x_col=\"path\",\n",
    "                                        y_col=None,\n",
    "                                        batch_size=32,\n",
    "                                        seed=42,\n",
    "                                        shuffle=False,\n",
    "                                        class_mode=None,\n",
    "                                        target_size=(224,224))"
   ]
  },
  {
   "cell_type": "code",
   "execution_count": 15,
   "metadata": {},
   "outputs": [],
   "source": [
    "from tensorflow.keras.applications.vgg16 import VGG16"
   ]
  },
  {
   "cell_type": "code",
   "execution_count": 16,
   "metadata": {},
   "outputs": [],
   "source": [
    "tf.keras.backend.clear_session()\n",
    "input_layer = Input(shape=(224,224,3),name='Input_Layer')\n",
    "\n",
    "vggnet = VGG16(input_shape=(224,224,3),weights='imagenet', include_top=False)\n",
    "for layer in vggnet.layers[:]:\n",
    "    layer.trainable = False\n",
    "\n",
    "vggnet_conv = vggnet(input_layer)\n",
    "Conv1 = Conv2D(filters=32,kernel_size=(3,3),strides=(1,1),padding='valid',data_format='channels_last',\n",
    "              activation='relu',kernel_initializer=tf.keras.initializers.he_normal(seed=0),name='Conv1')(vggnet_conv)\n",
    "Pool1 = MaxPool2D(pool_size=(2,2),strides=(2,2),padding='valid',data_format='channels_last',name='Pool1')(Conv1)\n",
    "#Flatten\n",
    "flatten = Flatten(data_format='channels_last',name='Flatten')(Pool1)\n",
    "#FC layer\n",
    "FC1 = Dense(units=128,activation='relu',kernel_initializer=tf.keras.initializers.glorot_normal(seed=32),name='FC1')(flatten)\n",
    "#FC layer\n",
    "FC2 = Dense(units=64,activation='relu',kernel_initializer=tf.keras.initializers.glorot_normal(seed=33),name='FC2')(FC1)\n",
    "#output layer\n",
    "Out = Dense(units=16,activation='softmax',kernel_initializer=tf.keras.initializers.glorot_normal(seed=3),name='Output')(FC2)\n",
    "#Creating a model\n",
    "model = Model(inputs=input_layer,outputs=Out)"
   ]
  },
  {
   "cell_type": "code",
   "execution_count": 17,
   "metadata": {},
   "outputs": [
    {
     "name": "stdout",
     "output_type": "stream",
     "text": [
      "Model: \"model\"\n",
      "_________________________________________________________________\n",
      "Layer (type)                 Output Shape              Param #   \n",
      "=================================================================\n",
      "Input_Layer (InputLayer)     [(None, 224, 224, 3)]     0         \n",
      "_________________________________________________________________\n",
      "vgg16 (Model)                (None, 7, 7, 512)         14714688  \n",
      "_________________________________________________________________\n",
      "Conv1 (Conv2D)               (None, 5, 5, 32)          147488    \n",
      "_________________________________________________________________\n",
      "Pool1 (MaxPooling2D)         (None, 2, 2, 32)          0         \n",
      "_________________________________________________________________\n",
      "Flatten (Flatten)            (None, 128)               0         \n",
      "_________________________________________________________________\n",
      "FC1 (Dense)                  (None, 128)               16512     \n",
      "_________________________________________________________________\n",
      "FC2 (Dense)                  (None, 64)                8256      \n",
      "_________________________________________________________________\n",
      "Output (Dense)               (None, 16)                1040      \n",
      "=================================================================\n",
      "Total params: 14,887,984\n",
      "Trainable params: 173,296\n",
      "Non-trainable params: 14,714,688\n",
      "_________________________________________________________________\n"
     ]
    }
   ],
   "source": [
    "model.summary()"
   ]
  },
  {
   "cell_type": "code",
   "execution_count": 18,
   "metadata": {},
   "outputs": [
    {
     "data": {
      "image/png": "[encoded data removed]",
      "text/plain": [
       "<IPython.core.display.Image object>"
      ]
     },
     "execution_count": 18,
     "metadata": {},
     "output_type": "execute_result"
    }
   ],
   "source": [
    "# summarize the model\n",
    "from tensorflow.keras.utils import plot_model\n",
    "\n",
    "plot_model(model, 'model.png', show_shapes=True)"
   ]
  },
  {
   "cell_type": "code",
   "execution_count": 19,
   "metadata": {},
   "outputs": [
    {
     "name": "stdout",
     "output_type": "stream",
     "text": [
      "Epoch 1/100\n",
      "216/216 [==============================] - 432s 2s/step - loss: 2.7655 - accuracy: 0.0742 - val_loss: 2.6075 - val_accuracy: 0.0864\n",
      "Epoch 2/100\n",
      "216/216 [==============================] - 330s 2s/step - loss: 2.4527 - accuracy: 0.1793 - val_loss: 2.2302 - val_accuracy: 0.2603\n",
      "Epoch 3/100\n",
      "216/216 [==============================] - 397s 2s/step - loss: 2.1942 - accuracy: 0.2724 - val_loss: 2.1240 - val_accuracy: 0.2757\n",
      "Epoch 4/100\n",
      "216/216 [==============================] - 359s 2s/step - loss: 2.1118 - accuracy: 0.2895 - val_loss: 2.0651 - val_accuracy: 0.3095\n",
      "Epoch 5/100\n",
      "216/216 [==============================] - 324s 2s/step - loss: 2.0443 - accuracy: 0.3177 - val_loss: 2.0024 - val_accuracy: 0.3304\n",
      "Epoch 6/100\n",
      "216/216 [==============================] - 236s 1s/step - loss: 2.0062 - accuracy: 0.3312 - val_loss: 1.9925 - val_accuracy: 0.3419\n",
      "Epoch 7/100\n",
      "216/216 [==============================] - 236s 1s/step - loss: 1.9928 - accuracy: 0.3404 - val_loss: 1.9623 - val_accuracy: 0.3384\n",
      "Epoch 8/100\n",
      "216/216 [==============================] - 233s 1s/step - loss: 1.9666 - accuracy: 0.3520 - val_loss: 2.1321 - val_accuracy: 0.2880\n",
      "Epoch 9/100\n",
      "216/216 [==============================] - 235s 1s/step - loss: 1.9327 - accuracy: 0.3573 - val_loss: 1.9688 - val_accuracy: 0.3505\n",
      "Epoch 10/100\n",
      "216/216 [==============================] - 233s 1s/step - loss: 1.9140 - accuracy: 0.3730 - val_loss: 1.9817 - val_accuracy: 0.3466\n",
      "Epoch 11/100\n",
      "216/216 [==============================] - 230s 1s/step - loss: 1.9437 - accuracy: 0.3663 - val_loss: 1.8906 - val_accuracy: 0.3751\n",
      "Epoch 12/100\n",
      "216/216 [==============================] - 226s 1s/step - loss: 1.9037 - accuracy: 0.3652 - val_loss: 1.8854 - val_accuracy: 0.3857\n",
      "Epoch 13/100\n",
      "216/216 [==============================] - 226s 1s/step - loss: 1.9054 - accuracy: 0.3767 - val_loss: 1.8657 - val_accuracy: 0.3851\n",
      "Epoch 14/100\n",
      "216/216 [==============================] - 214s 991ms/step - loss: 1.8682 - accuracy: 0.3900 - val_loss: 1.8545 - val_accuracy: 0.3878\n",
      "Epoch 15/100\n",
      "216/216 [==============================] - 205s 949ms/step - loss: 1.8540 - accuracy: 0.3860 - val_loss: 1.8502 - val_accuracy: 0.3879\n",
      "Epoch 16/100\n",
      "216/216 [==============================] - 206s 953ms/step - loss: 1.8474 - accuracy: 0.3951 - val_loss: 1.8785 - val_accuracy: 0.3747\n",
      "Epoch 17/100\n",
      "216/216 [==============================] - 213s 985ms/step - loss: 1.8263 - accuracy: 0.4013 - val_loss: 1.9310 - val_accuracy: 0.3686\n",
      "Epoch 18/100\n",
      "216/216 [==============================] - 234s 1s/step - loss: 1.8401 - accuracy: 0.3963 - val_loss: 1.9222 - val_accuracy: 0.3705\n",
      "Epoch 19/100\n",
      "216/216 [==============================] - 242s 1s/step - loss: 1.8448 - accuracy: 0.3973 - val_loss: 1.8560 - val_accuracy: 0.3891\n",
      "Epoch 20/100\n",
      "216/216 [==============================] - 249s 1s/step - loss: 1.8518 - accuracy: 0.3927 - val_loss: 1.8920 - val_accuracy: 0.3880\n",
      "Epoch 21/100\n",
      "216/216 [==============================] - 250s 1s/step - loss: 1.8018 - accuracy: 0.4076 - val_loss: 1.8383 - val_accuracy: 0.4016\n",
      "Epoch 22/100\n",
      "216/216 [==============================] - 254s 1s/step - loss: 1.7752 - accuracy: 0.4148 - val_loss: 1.8532 - val_accuracy: 0.3935\n",
      "Epoch 23/100\n",
      "216/216 [==============================] - 251s 1s/step - loss: 1.8157 - accuracy: 0.4080 - val_loss: 1.8432 - val_accuracy: 0.3960\n",
      "Epoch 24/100\n",
      "216/216 [==============================] - 297s 1s/step - loss: 1.7830 - accuracy: 0.4103 - val_loss: 1.8717 - val_accuracy: 0.3922\n",
      "Epoch 25/100\n",
      "216/216 [==============================] - 277s 1s/step - loss: 1.8133 - accuracy: 0.4054 - val_loss: 1.8883 - val_accuracy: 0.3812\n",
      "Epoch 26/100\n",
      "216/216 [==============================] - 203s 941ms/step - loss: 1.7852 - accuracy: 0.4119 - val_loss: 1.8185 - val_accuracy: 0.4079\n",
      "Epoch 27/100\n",
      "216/216 [==============================] - 213s 986ms/step - loss: 1.7758 - accuracy: 0.4162 - val_loss: 1.8050 - val_accuracy: 0.4096\n",
      "Epoch 28/100\n",
      "216/216 [==============================] - 208s 963ms/step - loss: 1.7704 - accuracy: 0.4233 - val_loss: 1.8442 - val_accuracy: 0.3976\n",
      "Epoch 29/100\n",
      "216/216 [==============================] - 207s 960ms/step - loss: 1.8075 - accuracy: 0.4146 - val_loss: 1.8120 - val_accuracy: 0.4144\n",
      "Epoch 30/100\n",
      "216/216 [==============================] - 210s 971ms/step - loss: 1.7915 - accuracy: 0.4167 - val_loss: 1.8122 - val_accuracy: 0.4129\n",
      "Epoch 31/100\n",
      "216/216 [==============================] - 209s 966ms/step - loss: 1.7915 - accuracy: 0.4239 - val_loss: 1.8170 - val_accuracy: 0.4112\n",
      "Epoch 32/100\n",
      "216/216 [==============================] - 208s 965ms/step - loss: 1.7543 - accuracy: 0.4295 - val_loss: 1.7842 - val_accuracy: 0.4156\n",
      "Epoch 33/100\n",
      "216/216 [==============================] - 210s 971ms/step - loss: 1.7500 - accuracy: 0.4232 - val_loss: 1.8135 - val_accuracy: 0.4127\n",
      "Epoch 34/100\n",
      "216/216 [==============================] - 208s 965ms/step - loss: 1.7576 - accuracy: 0.4245 - val_loss: 1.8666 - val_accuracy: 0.3898\n",
      "Epoch 35/100\n",
      "216/216 [==============================] - 209s 967ms/step - loss: 1.7712 - accuracy: 0.4268 - val_loss: 1.8195 - val_accuracy: 0.4143\n",
      "Epoch 36/100\n",
      "216/216 [==============================] - 225s 1s/step - loss: 1.7537 - accuracy: 0.4282 - val_loss: 1.8659 - val_accuracy: 0.4109\n",
      "Epoch 37/100\n",
      "216/216 [==============================] - 229s 1s/step - loss: 1.7711 - accuracy: 0.4225 - val_loss: 1.7897 - val_accuracy: 0.4159\n",
      "Epoch 38/100\n",
      "216/216 [==============================] - 219s 1s/step - loss: 1.7450 - accuracy: 0.4326 - val_loss: 1.8177 - val_accuracy: 0.4197\n",
      "Epoch 39/100\n",
      "216/216 [==============================] - 205s 949ms/step - loss: 1.7552 - accuracy: 0.4308 - val_loss: 1.8036 - val_accuracy: 0.4195\n",
      "Epoch 40/100\n",
      "216/216 [==============================] - 204s 945ms/step - loss: 1.7498 - accuracy: 0.4346 - val_loss: 1.8069 - val_accuracy: 0.4164\n",
      "Epoch 41/100\n",
      "216/216 [==============================] - 205s 949ms/step - loss: 1.7361 - accuracy: 0.4301 - val_loss: 1.8020 - val_accuracy: 0.4204\n",
      "Epoch 42/100\n",
      "216/216 [==============================] - 206s 954ms/step - loss: 1.7638 - accuracy: 0.4290 - val_loss: 1.7968 - val_accuracy: 0.4220\n",
      "Epoch 43/100\n",
      "216/216 [==============================] - 208s 964ms/step - loss: 1.7567 - accuracy: 0.4308 - val_loss: 1.7819 - val_accuracy: 0.4217\n",
      "Epoch 44/100\n",
      "216/216 [==============================] - 214s 991ms/step - loss: 1.7608 - accuracy: 0.4238 - val_loss: 1.8289 - val_accuracy: 0.4107\n",
      "Epoch 45/100\n",
      "216/216 [==============================] - 211s 977ms/step - loss: 1.7510 - accuracy: 0.4290 - val_loss: 1.8540 - val_accuracy: 0.3895\n",
      "Epoch 46/100\n",
      "216/216 [==============================] - 223s 1s/step - loss: 1.7571 - accuracy: 0.4304 - val_loss: 1.8216 - val_accuracy: 0.4180\n",
      "Epoch 47/100\n",
      "216/216 [==============================] - 235s 1s/step - loss: 1.7221 - accuracy: 0.4346 - val_loss: 1.8462 - val_accuracy: 0.4105\n",
      "Epoch 48/100\n",
      "216/216 [==============================] - 212s 983ms/step - loss: 1.7145 - accuracy: 0.4440 - val_loss: 1.9400 - val_accuracy: 0.3881\n",
      "Epoch 49/100\n",
      "216/216 [==============================] - 207s 957ms/step - loss: 1.7342 - accuracy: 0.4404 - val_loss: 1.7905 - val_accuracy: 0.4267\n",
      "Epoch 50/100\n",
      "216/216 [==============================] - 210s 971ms/step - loss: 1.7163 - accuracy: 0.4353 - val_loss: 1.8837 - val_accuracy: 0.3926\n",
      "Epoch 51/100\n",
      "216/216 [==============================] - 228s 1s/step - loss: 1.7430 - accuracy: 0.4330 - val_loss: 1.8899 - val_accuracy: 0.3909\n",
      "Epoch 52/100\n",
      "216/216 [==============================] - 232s 1s/step - loss: 1.7561 - accuracy: 0.4266 - val_loss: 1.8823 - val_accuracy: 0.3953\n",
      "Epoch 53/100\n",
      "216/216 [==============================] - 237s 1s/step - loss: 1.7033 - accuracy: 0.4455 - val_loss: 1.7884 - val_accuracy: 0.4214\n",
      "Epoch 54/100\n",
      "216/216 [==============================] - 235s 1s/step - loss: 1.7318 - accuracy: 0.4387 - val_loss: 1.8665 - val_accuracy: 0.4028\n",
      "Epoch 55/100\n",
      "216/216 [==============================] - 234s 1s/step - loss: 1.7093 - accuracy: 0.4453 - val_loss: 1.8153 - val_accuracy: 0.4137\n",
      "Epoch 56/100\n",
      "216/216 [==============================] - 232s 1s/step - loss: 1.7057 - accuracy: 0.4473 - val_loss: 1.7739 - val_accuracy: 0.4189\n",
      "Epoch 57/100\n"
     ]
    },
    {
     "name": "stdout",
     "output_type": "stream",
     "text": [
      "216/216 [==============================] - 228s 1s/step - loss: 1.7271 - accuracy: 0.4362 - val_loss: 1.8085 - val_accuracy: 0.4181\n",
      "Epoch 58/100\n",
      "216/216 [==============================] - 229s 1s/step - loss: 1.7196 - accuracy: 0.4404 - val_loss: 1.7632 - val_accuracy: 0.4285\n",
      "Epoch 59/100\n",
      "216/216 [==============================] - 252s 1s/step - loss: 1.6992 - accuracy: 0.4507 - val_loss: 1.7834 - val_accuracy: 0.4246\n",
      "Epoch 60/100\n",
      "216/216 [==============================] - 279s 1s/step - loss: 1.7310 - accuracy: 0.4366 - val_loss: 1.7819 - val_accuracy: 0.4288\n",
      "Epoch 61/100\n",
      "216/216 [==============================] - 294s 1s/step - loss: 1.7271 - accuracy: 0.4327 - val_loss: 1.8654 - val_accuracy: 0.4097\n",
      "Epoch 62/100\n",
      "216/216 [==============================] - 245s 1s/step - loss: 1.7395 - accuracy: 0.4365 - val_loss: 1.7893 - val_accuracy: 0.4205\n",
      "Epoch 63/100\n",
      "216/216 [==============================] - 223s 1s/step - loss: 1.7354 - accuracy: 0.4332 - val_loss: 1.7792 - val_accuracy: 0.4263\n",
      "Epoch 64/100\n",
      "216/216 [==============================] - 226s 1s/step - loss: 1.7462 - accuracy: 0.4323 - val_loss: 1.8304 - val_accuracy: 0.4172\n",
      "Epoch 65/100\n",
      "216/216 [==============================] - 228s 1s/step - loss: 1.7102 - accuracy: 0.4416 - val_loss: 1.7592 - val_accuracy: 0.4305\n",
      "Epoch 66/100\n",
      "216/216 [==============================] - 208s 964ms/step - loss: 1.7060 - accuracy: 0.4449 - val_loss: 1.7997 - val_accuracy: 0.4187\n",
      "Epoch 67/100\n",
      "216/216 [==============================] - 228s 1s/step - loss: 1.7174 - accuracy: 0.4453 - val_loss: 1.7898 - val_accuracy: 0.4231\n",
      "Epoch 68/100\n",
      "216/216 [==============================] - 229s 1s/step - loss: 1.6960 - accuracy: 0.4592 - val_loss: 1.7578 - val_accuracy: 0.4327\n",
      "Epoch 69/100\n",
      "216/216 [==============================] - 235s 1s/step - loss: 1.7170 - accuracy: 0.4342 - val_loss: 1.7866 - val_accuracy: 0.4304\n",
      "Epoch 70/100\n",
      "216/216 [==============================] - 237s 1s/step - loss: 1.7036 - accuracy: 0.4440 - val_loss: 1.7886 - val_accuracy: 0.4271\n",
      "Epoch 71/100\n",
      "216/216 [==============================] - 245s 1s/step - loss: 1.7004 - accuracy: 0.4449 - val_loss: 1.8099 - val_accuracy: 0.4206\n",
      "Epoch 72/100\n",
      "216/216 [==============================] - 244s 1s/step - loss: 1.7328 - accuracy: 0.4358 - val_loss: 1.7762 - val_accuracy: 0.4202\n",
      "Epoch 73/100\n",
      "216/216 [==============================] - 240s 1s/step - loss: 1.7048 - accuracy: 0.4473 - val_loss: 1.8451 - val_accuracy: 0.4119\n",
      "Epoch 74/100\n",
      "216/216 [==============================] - 237s 1s/step - loss: 1.7120 - accuracy: 0.4405 - val_loss: 1.7748 - val_accuracy: 0.4281\n",
      "Epoch 75/100\n",
      "216/216 [==============================] - 238s 1s/step - loss: 1.6882 - accuracy: 0.4476 - val_loss: 1.7792 - val_accuracy: 0.4294\n",
      "Epoch 76/100\n",
      "216/216 [==============================] - 239s 1s/step - loss: 1.7276 - accuracy: 0.4356 - val_loss: 1.7781 - val_accuracy: 0.4379\n",
      "Epoch 77/100\n",
      "216/216 [==============================] - 237s 1s/step - loss: 1.7131 - accuracy: 0.4418 - val_loss: 1.8152 - val_accuracy: 0.4185\n",
      "Epoch 78/100\n",
      "216/216 [==============================] - 235s 1s/step - loss: 1.6860 - accuracy: 0.4524 - val_loss: 1.7838 - val_accuracy: 0.4279\n",
      "Epoch 79/100\n",
      "216/216 [==============================] - 235s 1s/step - loss: 1.7037 - accuracy: 0.4540 - val_loss: 1.7747 - val_accuracy: 0.4313\n",
      "Epoch 80/100\n",
      "216/216 [==============================] - 236s 1s/step - loss: 1.6933 - accuracy: 0.4538 - val_loss: 1.8225 - val_accuracy: 0.4171\n",
      "Epoch 81/100\n",
      "216/216 [==============================] - 237s 1s/step - loss: 1.6852 - accuracy: 0.4615 - val_loss: 1.7663 - val_accuracy: 0.4354\n",
      "Epoch 82/100\n",
      "216/216 [==============================] - 235s 1s/step - loss: 1.7237 - accuracy: 0.4466 - val_loss: 1.7707 - val_accuracy: 0.4305\n",
      "Epoch 83/100\n",
      "216/216 [==============================] - 234s 1s/step - loss: 1.7229 - accuracy: 0.4404 - val_loss: 1.9747 - val_accuracy: 0.3677\n",
      "Epoch 84/100\n",
      "216/216 [==============================] - 235s 1s/step - loss: 1.6769 - accuracy: 0.4557 - val_loss: 1.7721 - val_accuracy: 0.4343\n",
      "Epoch 85/100\n",
      "216/216 [==============================] - 235s 1s/step - loss: 1.6932 - accuracy: 0.4505 - val_loss: 1.7600 - val_accuracy: 0.4302\n",
      "Epoch 86/100\n",
      "216/216 [==============================] - 238s 1s/step - loss: 1.6855 - accuracy: 0.4538 - val_loss: 1.7843 - val_accuracy: 0.4264\n",
      "Epoch 87/100\n",
      "216/216 [==============================] - 237s 1s/step - loss: 1.6810 - accuracy: 0.4569 - val_loss: 1.8314 - val_accuracy: 0.4157\n",
      "Epoch 88/100\n",
      "216/216 [==============================] - 236s 1s/step - loss: 1.6812 - accuracy: 0.4465 - val_loss: 1.7935 - val_accuracy: 0.4174\n",
      "Epoch 89/100\n",
      "216/216 [==============================] - 236s 1s/step - loss: 1.7010 - accuracy: 0.4507 - val_loss: 1.8335 - val_accuracy: 0.4068\n",
      "Epoch 90/100\n",
      "216/216 [==============================] - 235s 1s/step - loss: 1.6634 - accuracy: 0.4606 - val_loss: 1.7845 - val_accuracy: 0.4200\n",
      "Epoch 91/100\n",
      "216/216 [==============================] - 233s 1s/step - loss: 1.6631 - accuracy: 0.4657 - val_loss: 1.7785 - val_accuracy: 0.4276\n",
      "Epoch 92/100\n",
      "216/216 [==============================] - 3402s 16s/step - loss: 1.6738 - accuracy: 0.4525 - val_loss: 1.8077 - val_accuracy: 0.4257\n",
      "Epoch 93/100\n",
      "216/216 [==============================] - 245s 1s/step - loss: 1.6788 - accuracy: 0.4569 - val_loss: 1.8202 - val_accuracy: 0.4254\n",
      "Epoch 94/100\n",
      "216/216 [==============================] - 271s 1s/step - loss: 1.6995 - accuracy: 0.4525 - val_loss: 1.7976 - val_accuracy: 0.4277\n",
      "Epoch 95/100\n",
      "216/216 [==============================] - 253s 1s/step - loss: 1.6767 - accuracy: 0.4628 - val_loss: 1.9192 - val_accuracy: 0.3911\n",
      "Epoch 96/100\n",
      "216/216 [==============================] - 263s 1s/step - loss: 1.6851 - accuracy: 0.4537 - val_loss: 1.7919 - val_accuracy: 0.4313\n",
      "Epoch 97/100\n",
      "216/216 [==============================] - 272s 1s/step - loss: 1.6400 - accuracy: 0.4709 - val_loss: 1.7693 - val_accuracy: 0.4334\n",
      "Epoch 98/100\n",
      "216/216 [==============================] - 268s 1s/step - loss: 1.6976 - accuracy: 0.4433 - val_loss: 1.7797 - val_accuracy: 0.4391\n",
      "Epoch 99/100\n",
      "216/216 [==============================] - 268s 1s/step - loss: 1.6890 - accuracy: 0.4512 - val_loss: 1.7636 - val_accuracy: 0.4352\n",
      "Epoch 100/100\n",
      "216/216 [==============================] - 265s 1s/step - loss: 1.6750 - accuracy: 0.4486 - val_loss: 1.7870 - val_accuracy: 0.4299\n"
     ]
    },
    {
     "data": {
      "text/plain": [
       "<tensorflow.python.keras.callbacks.History at 0x17bae94c0c8>"
      ]
     },
     "execution_count": 19,
     "metadata": {},
     "output_type": "execute_result"
    }
   ],
   "source": [
    "#compiling \n",
    "model.compile(optimizer=tf.keras.optimizers.Adam(lr=0.01),loss='categorical_crossentropy',metrics=['accuracy'])\n",
    "##fitting generator\n",
    "model.fit(train_generator,steps_per_epoch=216,epochs=100,validation_data=valid_generator)"
   ]
  },
  {
   "cell_type": "code",
   "execution_count": null,
   "metadata": {},
   "outputs": [],
   "source": []
  }
 ],
 "metadata": {
  "colab": {
   "collapsed_sections": [],
   "name": "Transfer Learning.ipynb",
   "provenance": [],
   "toc_visible": true
  },
  "kernelspec": {
   "display_name": "Python 3",
   "language": "python",
   "name": "python3"
  },
  "language_info": {
   "codemirror_mode": {
    "name": "ipython",
    "version": 3
   },
   "file_extension": ".py",
   "mimetype": "text/x-python",
   "name": "python",
   "nbconvert_exporter": "python",
   "pygments_lexer": "ipython3",
   "version": "3.7.6"
  }
 },
 "nbformat": 4,
 "nbformat_minor": 1
}
